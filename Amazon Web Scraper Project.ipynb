{
 "cells": [
  {
   "cell_type": "code",
   "execution_count": 71,
   "metadata": {
    "collapsed": true
   },
   "outputs": [],
   "source": [
    "# import libraries \n",
    "\n",
    "from bs4 import BeautifulSoup\n",
    "import requests\n",
    "import time\n",
    "import datetime\n",
    "import csv \n",
    "import smtplib"
   ]
  },
  {
   "cell_type": "code",
   "execution_count": 12,
   "metadata": {},
   "outputs": [],
   "source": [
    "# Connect to Website and pull in data\n",
    "\n",
    "URL = 'https://www.amazon.com/MSI-10SEK-048-Entertainment-i7-10750H-Personal/dp/B08PDBL2TW/ref=sr_1_1?crid=2IOECRVE1KK5M&keywords=msi%2Bgp65%2Blaptop&qid=1665073247&sprefix=MSI%2Bgp65%2Caps%2C293&sr=8-1&th=1'\n",
    "\n",
    "headers = {\"User-Agent\": \"Mozilla/5.0 (Windows NT 10.0; Win64; x64) AppleWebKit/537.36 (KHTML, like Gecko) Chrome/105.0.0.0 Safari/537.36\", \"Accept-Encoding\":\"gzip, deflate\", \"Accept\":\"text/html,application/xhtml+xml,application/xml;q=0.9,*/*;q=0.8\", \"DNT\":\"1\",\"Connection\":\"close\", \"Upgrade-Insecure-Requests\":\"1\"}\n",
    "\n",
    "page = requests.get(URL, headers=headers)\n",
    "\n",
    "sp = BeautifulSoup(page.content, \"html.parser\")\n",
    "\n",
    "soup = BeautifulSoup(sp.prettify(), \"html.parser\")\n"
   ]
  },
  {
   "cell_type": "code",
   "execution_count": 77,
   "metadata": {},
   "outputs": [
    {
     "name": "stdout",
     "output_type": "stream",
     "text": [
      "\n",
      "     MSI GP65 Leopard 10SEK-048 Gaming and Entertainment Laptop (Intel i7-10750H 6-Core, 32GB RAM, 1TB m.2 SATA SSD, RTX 2060, Win 10 Pro) with MS 365 Personal, Hub\n",
      "    \n",
      "\n",
      "                        $2,599.00\n",
      "                       \n"
     ]
    }
   ],
   "source": [
    "# Get the title and price of the product \n",
    "\n",
    "title = soup.find(id='productTitle').get_text()\n",
    "\n",
    "price = soup.find(class_=\"a-offscreen\").get_text()\n",
    "\n",
    "#<span class=\"a-price aok-align-center reinventPricePriceToPayMargin priceToPay\" data-a-size=\"xl\" data-a-color=\"base\"><span class=\"a-offscreen\">$2,599.00</span><span aria-hidden=\"true\"><span class=\"a-price-symbol\">$</span><span class=\"a-price-whole\">2,599<span class=\"a-price-decimal\">.</span></span><span class=\"a-price-fraction\">00</span></span></span>\n",
    "\n",
    "print(title)\n",
    "print(price)"
   ]
  },
  {
   "cell_type": "code",
   "execution_count": 81,
   "metadata": {},
   "outputs": [
    {
     "name": "stdout",
     "output_type": "stream",
     "text": [
      "Title:  MSI GP65 Leopard 10SEK-048 Gaming and Entertainment Laptop \n",
      "Price:  2,599.00\n"
     ]
    }
   ],
   "source": [
    "# Clean up the data -- using strip() & Split () Methods\n",
    "\n",
    "# strip() Method : Remove spaces at the beginning and at the end of the string\n",
    "price = price.strip()[1:]\n",
    "title = title.strip()\n",
    "\n",
    "# Split () Method : Split the string into a list with max 2 items, and take the first item\n",
    "head_title = title.split('(', 1)[0]\n",
    "\n",
    "\n",
    "print('Title: ',head_title)\n",
    "print('Price: ',price)"
   ]
  },
  {
   "cell_type": "code",
   "execution_count": 73,
   "metadata": {},
   "outputs": [
    {
     "name": "stdout",
     "output_type": "stream",
     "text": [
      "2022-10-06\n"
     ]
    }
   ],
   "source": [
    "# Create a Timestamp for the output to track when data was collected -- using datetime librarie\n",
    "\n",
    "today = datetime.date.today()\n",
    "\n",
    "print(today)"
   ]
  },
  {
   "cell_type": "code",
   "execution_count": 75,
   "metadata": {},
   "outputs": [],
   "source": [
    "# Create CSV and write headers and data into the file -- using csv librarie\n",
    "\n",
    "header = ['Title', 'Price', 'Date']\n",
    "data = [head_title, price, today]\n",
    "\n",
    "\n",
    "with open('AmazonWebScraperDataset.csv', 'w', newline='', encoding='UTF8') as f:\n",
    "    file = csv.writer(f)\n",
    "    file.writerow(header)\n",
    "    file.writerow(data)"
   ]
  },
  {
   "cell_type": "code",
   "execution_count": 76,
   "metadata": {},
   "outputs": [
    {
     "data": {
      "text/html": [
       "<div>\n",
       "<style>\n",
       "    .dataframe thead tr:only-child th {\n",
       "        text-align: right;\n",
       "    }\n",
       "\n",
       "    .dataframe thead th {\n",
       "        text-align: left;\n",
       "    }\n",
       "\n",
       "    .dataframe tbody tr th {\n",
       "        vertical-align: top;\n",
       "    }\n",
       "</style>\n",
       "<table border=\"1\" class=\"dataframe\">\n",
       "  <thead>\n",
       "    <tr style=\"text-align: right;\">\n",
       "      <th></th>\n",
       "      <th>Title</th>\n",
       "      <th>Price</th>\n",
       "      <th>Date</th>\n",
       "    </tr>\n",
       "  </thead>\n",
       "  <tbody>\n",
       "    <tr>\n",
       "      <th>0</th>\n",
       "      <td>MSI GP65 Leopard 10SEK-048 Gaming and Entertai...</td>\n",
       "      <td>2,599</td>\n",
       "      <td>2022-10-06</td>\n",
       "    </tr>\n",
       "  </tbody>\n",
       "</table>\n",
       "</div>"
      ],
      "text/plain": [
       "                                               Title  Price        Date\n",
       "0  MSI GP65 Leopard 10SEK-048 Gaming and Entertai...  2,599  2022-10-06"
      ]
     },
     "execution_count": 76,
     "metadata": {},
     "output_type": "execute_result"
    }
   ],
   "source": [
    "# View the data in the csv file -- using pandas\n",
    "\n",
    "import pandas as pd\n",
    "\n",
    "df = pd.read_csv(r'C:\\Users\\Oadi7\\Desktop\\Data Science\\Data Analyst Portfolio Projects\\Amazon Web Scraping Using Python\\AmazonWebScraperDataset.csv')\n",
    "\n",
    "df"
   ]
  },
  {
   "cell_type": "code",
   "execution_count": null,
   "metadata": {
    "collapsed": true
   },
   "outputs": [],
   "source": [
    "# Appending data to the csv file\n",
    "\n",
    "with open('AmazonWebScraperDataset.csv', 'a+', newline='', encoding='UTF8') as f:\n",
    "    file = csv.writer(f)\n",
    "    file.writerow(data)"
   ]
  },
  {
   "cell_type": "code",
   "execution_count": null,
   "metadata": {
    "collapsed": true
   },
   "outputs": [],
   "source": [
    "#Combine all of the above code into one function\n",
    "\n",
    "\n",
    "def check_price():\n",
    "    \n",
    "    URL = 'https://www.amazon.com/MSI-10SEK-048-Entertainment-i7-10750H-Personal/dp/B08PDBL2TW/ref=sr_1_1?crid=2IOECRVE1KK5M&keywords=msi%2Bgp65%2Blaptop&qid=1665073247&sprefix=MSI%2Bgp65%2Caps%2C293&sr=8-1&th=1'\n",
    "\n",
    "    headers = {\"User-Agent\": \"Mozilla/5.0 (Windows NT 10.0; Win64; x64) AppleWebKit/537.36 (KHTML, like Gecko) Chrome/105.0.0.0 Safari/537.36\", \"Accept-Encoding\":\"gzip, deflate\", \"Accept\":\"text/html,application/xhtml+xml,application/xml;q=0.9,*/*;q=0.8\", \"DNT\":\"1\",\"Connection\":\"close\", \"Upgrade-Insecure-Requests\":\"1\"}\n",
    "\n",
    "    page = requests.get(URL, headers=headers)\n",
    "\n",
    "    sp = BeautifulSoup(page.content, \"html.parser\")\n",
    "\n",
    "    soup = BeautifulSoup(sp.prettify(), \"html.parser\")\n",
    "\n",
    "    title = soup.find(id='productTitle').get_text()\n",
    "\n",
    "    price = soup.find(class_=\"a-offscreen\").get_text()\n",
    "\n",
    "    price = price.strip()[1:]\n",
    "    \n",
    "    title = title.strip()\n",
    "\n",
    "    head_title = title.split('(', 1)[0]\n",
    "\n",
    "    import datetime\n",
    "\n",
    "    today = datetime.date.today()\n",
    "    \n",
    "    import csv \n",
    "\n",
    "    header = ['Title', 'Price', 'Date']\n",
    "    data = [head_title, price, today]\n",
    "\n",
    "\n",
    "    with open('AmazonWebScraperDataset.csv', 'a+', newline='', encoding='UTF8') as f:\n",
    "        file = csv.writer(f)\n",
    "        file.writerow(data)\n",
    "        \n",
    "    if (price < 1500):\n",
    "        send_mail()"
   ]
  },
  {
   "cell_type": "code",
   "execution_count": null,
   "metadata": {
    "collapsed": true
   },
   "outputs": [],
   "source": [
    "# Runs check_price after a set time and inputs data into  CSV file -- using time librarie\n",
    "\n",
    "while(True):\n",
    "    check_price()\n",
    "    time.sleep(86400) # 86400 sec = 24 hour = 1 day"
   ]
  },
  {
   "cell_type": "code",
   "execution_count": 107,
   "metadata": {},
   "outputs": [],
   "source": [
    "# The Module Has Been Build for Sending Emails from your Gmail Account.\n",
    "\n",
    "\"\"\"\n",
    "# # # # # # # # # # # # # # # # # # # # # # # # # # # # # # # # # # # # # #\n",
    "YOU MUST CREATE AND USE AN APP PASSWORD!!!!\n",
    "https://support.google.com/accounts/answer/185833?hl=en\n",
    "# # # # # # # # # # # # # # # # # # # # # # # # # # # # # # # # # # # # # #\n",
    "\n",
    "Otherwise when you run jkirchoff$ python3 sendgmail.py\n",
    "You get the message:\n",
    "Error: (535, b'5.7.8 Username and Password not accepted. Learn more at\n",
    "5.7.8  https://support.google.com/mail/?p=BadCredentials\n",
    "z90-h3zf2215251alemzk.85 - gsmtp')!\n",
    "\n",
    "But if you have the correct Application password jkirchoff$ python3 sendgmail.py\n",
    "Email sent!\n",
    "\"\"\"\n",
    "\n",
    "def send_mail():\n",
    "    port = 465  # For SSL\n",
    "    smtp_server = \"smtp.gmail.com\"\n",
    "    sender_email = \"oadi77real@gmail.com\"  # Enter your address\n",
    "    receiver_email = \"odai.aljonaid@gmail.com\"  # Enter receiver address\n",
    "    gmail_app_password = input(\"Type your GOOGLE-APPLICATION-PASSWORD and press enter: \")\n",
    "    \n",
    "    \n",
    "    subject = \"Updates about the Laptop you like on Amazon!\"\n",
    "    body = (\"Odai, This is the moment we have been waiting for.\\n\"\n",
    "            \"Now is your chance to pick up the Laptop of your dreams!\\n\\n\" \n",
    "            \"Don't mess it up! Link here:\\n\"  \n",
    "            \"https://www.amazon.com/MSI-10SEK-048-Entertainment-i7-10750H-Personal/dp/B08PDBL2TW/ref=sr_1_1?crid=2IOECRVE1KK5M&keywords=msi%2Bgp65%2Blaptop&qid=1665073247&sprefix=MSI%2Bgp65%2Caps%2C293&sr=8-1&th=1\\n\")\n",
    "    \n",
    "\n",
    "    msg = f\"Subject: {subject}\\n\\n{body}\"\n",
    "    \n",
    "    try:\n",
    "        server = smtplib.SMTP_SSL(smtp_server, port)\n",
    "        server.ehlo()\n",
    "        #server.starttls()\n",
    "        server.ehlo()\n",
    "        server.login(sender_email, gmail_app_password)\n",
    "        server.sendmail(sender_email, receiver_email,msg)\n",
    "        server.close()\n",
    "\n",
    "        print('Email sent!')\n",
    "        \n",
    "    except Exception as exception:\n",
    "        print(\"Error: %s!\\n\\n\" % exception)\n",
    "    "
   ]
  },
  {
   "cell_type": "code",
   "execution_count": null,
   "metadata": {
    "collapsed": true
   },
   "outputs": [],
   "source": []
  }
 ],
 "metadata": {
  "kernelspec": {
   "display_name": "Python 3",
   "language": "python",
   "name": "python3"
  },
  "language_info": {
   "codemirror_mode": {
    "name": "ipython",
    "version": 3
   },
   "file_extension": ".py",
   "mimetype": "text/x-python",
   "name": "python",
   "nbconvert_exporter": "python",
   "pygments_lexer": "ipython3",
   "version": "3.6.1"
  }
 },
 "nbformat": 4,
 "nbformat_minor": 2
}
